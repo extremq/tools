{
 "cells": [
  {
   "cell_type": "code",
   "execution_count": 1,
   "id": "initial_id",
   "metadata": {
    "collapsed": true,
    "ExecuteTime": {
     "end_time": "2023-08-18T06:06:37.111250100Z",
     "start_time": "2023-08-18T06:06:36.621296Z"
    }
   },
   "outputs": [
    {
     "name": "stdout",
     "output_type": "stream",
     "text": [
      "\u001B[1m\u001B[32mSuccess: Environment variables loaded successfully.\u001B[0m\n"
     ]
    }
   ],
   "source": [
    "import json\n",
    "import pandas as pd\n",
    "import os # Wow, I'm really learning a lot about commiting, haha\n",
    "\n",
    "from main import setup_env\n",
    "\n",
    "setup_env()"
   ]
  },
  {
   "cell_type": "markdown",
   "source": [
    "# Getting the PUUID of summoner by name"
   ],
   "metadata": {
    "collapsed": false
   },
   "id": "1ae0dbb2e3fa204a"
  },
  {
   "cell_type": "code",
   "execution_count": 2,
   "outputs": [],
   "source": [
    "import requests\n",
    "\n",
    "def get_puuid(summoner_name, region):\n",
    "    base_url = f\"https://{region.lower()}.api.riotgames.com/lol/summoner/v4/summoners/by-name/{summoner_name}\"\n",
    "    headers = {\n",
    "        \"X-Riot-Token\": os.getenv(\"LEAGUE_API_KEY\")\n",
    "    }\n",
    "    \n",
    "    response = requests.get(base_url, headers=headers)\n",
    "    \n",
    "    if response.status_code == 200:\n",
    "        data = response.json()\n",
    "        return data.get(\"puuid\")\n",
    "    else:\n",
    "        print(f\"Error: {response.status_code}\")\n",
    "        return None"
   ],
   "metadata": {
    "collapsed": false,
    "ExecuteTime": {
     "end_time": "2023-08-18T06:06:37.111748700Z",
     "start_time": "2023-08-18T06:06:37.087118100Z"
    }
   },
   "id": "5f9aaa570ff318a1"
  },
  {
   "cell_type": "markdown",
   "source": [
    "# Getting the match history of a summoner"
   ],
   "metadata": {
    "collapsed": false
   },
   "id": "4ea76259d23e5e94"
  },
  {
   "cell_type": "code",
   "execution_count": 3,
   "outputs": [],
   "source": [
    "def get_match_history(puuid, start_time, end_time, start, count):\n",
    "    start_timestamp = date_to_timestamp(start_time)\n",
    "    end_timestamp = date_to_timestamp(end_time)\n",
    "    \n",
    "    base_url = f\"https://europe.api.riotgames.com/lol/match/v5/matches/by-puuid/{puuid}/ids?start={start}&count={count}&startTime={start_timestamp}&endTime={end_timestamp}\"\n",
    "    headers = {\n",
    "        \"X-Riot-Token\": os.getenv(\"LEAGUE_API_KEY\"),\n",
    "    }\n",
    "    \n",
    "    response = requests.get(base_url, headers=headers)\n",
    "    \n",
    "    if response.status_code == 200:\n",
    "        data = response.json()\n",
    "        return data\n",
    "    else:\n",
    "        print(f\"Error: {response.status_code}\")\n",
    "        print(response.json())\n",
    "        return None"
   ],
   "metadata": {
    "collapsed": false,
    "ExecuteTime": {
     "end_time": "2023-08-18T06:06:37.111748700Z",
     "start_time": "2023-08-18T06:06:37.092799200Z"
    }
   },
   "id": "424e373700d65361"
  },
  {
   "cell_type": "markdown",
   "source": [
    "# Getting the match data"
   ],
   "metadata": {
    "collapsed": false
   },
   "id": "a54d2e8a2346ca8d"
  },
  {
   "cell_type": "code",
   "execution_count": 4,
   "outputs": [],
   "source": [
    "def get_match_data(match_id):\n",
    "    base_url = f\"https://europe.api.riotgames.com/lol/match/v5/matches/{match_id}\"\n",
    "    headers = {\n",
    "        \"X-Riot-Token\": os.getenv(\"LEAGUE_API_KEY\"),\n",
    "    }\n",
    "    \n",
    "    response = requests.get(base_url, headers=headers)\n",
    "    \n",
    "    if response.status_code == 200:\n",
    "        data = response.json()\n",
    "        return data\n",
    "    else:   \n",
    "        print(f\"Error: {response.status_code}\")\n",
    "        print(response.json())\n",
    "        return None"
   ],
   "metadata": {
    "collapsed": false,
    "ExecuteTime": {
     "end_time": "2023-08-18T06:06:37.112252500Z",
     "start_time": "2023-08-18T06:06:37.096820700Z"
    }
   },
   "id": "336dfc1d2f4d9fac"
  },
  {
   "cell_type": "code",
   "execution_count": 42,
   "outputs": [],
   "source": [
    "# Convert date to timestamp (seconds)\n",
    "# Using timezone Europe/Bucharest\n",
    "import datetime\n",
    "import pytz\n",
    "\n",
    "def date_to_timestamp(date):\n",
    "    date = datetime.datetime.strptime(date, \"%Y-%m-%d\")\n",
    "    date = pytz.timezone(\"Europe/Bucharest\").localize(date)\n",
    "    return int(date.timestamp())\n",
    "\n",
    "def timestamp_milis_to_datetime(timestamp):\n",
    "    return datetime.datetime.fromtimestamp(timestamp / 1000, pytz.timezone(\"Europe/Bucharest\"))\n",
    "    \n",
    "\n",
    "def filter_match_data(match_data, puuid):\n",
    "    filtered_data = {\n",
    "        \"id\": match_data[\"metadata\"][\"matchId\"],\n",
    "        \"start_time\": timestamp_milis_to_datetime(match_data[\"info\"][\"gameStartTimestamp\"]),\n",
    "        \"stop_time\": timestamp_milis_to_datetime(match_data[\"info\"][\"gameEndTimestamp\"]),\n",
    "        \"duration_in_seconds\": match_data[\"info\"][\"gameDuration\"],\n",
    "        \"duration_in_minutes\": match_data[\"info\"][\"gameDuration\"] / 60,\n",
    "        \"gamemode\": match_data[\"info\"][\"gameMode\"],\n",
    "        \"kda_formatted\": None,\n",
    "        \"kda\": None,\n",
    "        \"win\": None,\n",
    "        \"champion\": None,\n",
    "    }\n",
    "    \n",
    "    for player in match_data[\"info\"][\"participants\"]:\n",
    "        if player[\"puuid\"] == puuid:\n",
    "            filtered_data[\"kda_formatted\"] = f\"{player['kills']}/{player['deaths']}/{player['assists']}\"\n",
    "            player[\"deaths\"] = 1 if player[\"deaths\"] == 0 else player[\"deaths\"]\n",
    "            filtered_data[\"kda\"] = (player[\"kills\"] + player[\"assists\"]) / player[\"deaths\"]\n",
    "            filtered_data[\"win\"] = player[\"win\"]\n",
    "            filtered_data[\"champion\"] = player[\"championName\"]\n",
    "            break\n",
    "            \n",
    "    return filtered_data"
   ],
   "metadata": {
    "collapsed": false,
    "ExecuteTime": {
     "end_time": "2023-08-18T06:23:43.544837200Z",
     "start_time": "2023-08-18T06:23:43.534321100Z"
    }
   },
   "id": "578df0c36f3ea6dc"
  },
  {
   "cell_type": "code",
   "execution_count": 44,
   "outputs": [],
   "source": [
    "def turn_data_to_dataframe(match_ids, puuid):\n",
    "    matches_data = [get_match_data(match_id) for match_id in match_ids]\n",
    "    filtered_matches_data = [filter_match_data(match_data, puuid) for match_data in matches_data]\n",
    "    \n",
    "    return pd.DataFrame(filtered_matches_data)"
   ],
   "metadata": {
    "collapsed": false,
    "ExecuteTime": {
     "end_time": "2023-08-18T06:23:59.528946800Z",
     "start_time": "2023-08-18T06:23:59.521906300Z"
    }
   },
   "id": "df6752c3e8675098"
  },
  {
   "cell_type": "code",
   "execution_count": 52,
   "outputs": [
    {
     "data": {
      "text/plain": "                 id                       start_time  \\\n0   EUN1_3437170687 2023-08-18 07:37:34.364000+03:00   \n1   EUN1_3436810195 2023-08-17 19:23:21.803000+03:00   \n2   EUN1_3436785545 2023-08-17 19:02:28.446000+03:00   \n3   EUN1_3436642726 2023-08-17 15:11:01.366000+03:00   \n4   EUN1_3436633168 2023-08-17 14:48:25.861000+03:00   \n5   EUN1_3436614912 2023-08-17 14:25:38.115000+03:00   \n6   EUN1_3436053023 2023-08-16 17:36:01.694000+03:00   \n7   EUN1_3436039855 2023-08-16 17:12:01.818000+03:00   \n8   EUN1_3436015683 2023-08-16 16:42:24.088000+03:00   \n9   EUN1_3435999852 2023-08-16 16:06:43.076000+03:00   \n10  EUN1_3435970999 2023-08-16 15:20:15.363000+03:00   \n11  EUN1_3435972341 2023-08-16 15:06:15.397000+03:00   \n12  EUN1_3435945629 2023-08-16 14:41:44.039000+03:00   \n13  EUN1_3435935290 2023-08-16 14:08:40.176000+03:00   \n14  EUN1_3435919359 2023-08-16 13:42:10.052000+03:00   \n15  EUN1_3435912400 2023-08-16 13:14:31.793000+03:00   \n16  EUN1_3435893474 2023-08-16 12:44:20.239000+03:00   \n17  EUN1_3435857927 2023-08-16 11:00:22.414000+03:00   \n18  EUN1_3435841885 2023-08-16 09:38:23.816000+03:00   \n19  EUN1_3435834545 2023-08-16 08:53:34.220000+03:00   \n20  EUN1_3435833147 2023-08-16 07:54:08.685000+03:00   \n21  EUN1_3435818943 2023-08-16 07:29:13.230000+03:00   \n22  EUN1_3435830845 2023-08-16 07:07:28.914000+03:00   \n23  EUN1_3435821718 2023-08-16 06:43:43.225000+03:00   \n24  EUN1_3435474297 2023-08-15 19:33:29.990000+03:00   \n25  EUN1_3435441530 2023-08-15 18:49:40.054000+03:00   \n26  EUN1_3435377283 2023-08-15 17:11:40.331000+03:00   \n27  EUN1_3435361423 2023-08-15 16:50:49.272000+03:00   \n28  EUN1_3435340928 2023-08-15 16:29:18.457000+03:00   \n29  EUN1_3435331255 2023-08-15 16:01:07.449000+03:00   \n30  EUN1_3435308155 2023-08-15 15:26:04.170000+03:00   \n31  EUN1_3435269238 2023-08-15 14:21:20.493000+03:00   \n32  EUN1_3435247084 2023-08-15 13:39:53.625000+03:00   \n33  EUN1_3435234306 2023-08-15 13:21:48.955000+03:00   \n\n                          stop_time  duration_in_seconds  duration_in_minutes  \\\n0  2023-08-18 08:12:31.017000+03:00                 2096            34.933333   \n1  2023-08-17 19:41:15.200000+03:00                 1073            17.883333   \n2  2023-08-17 19:21:00.602000+03:00                 1112            18.533333   \n3  2023-08-17 15:33:09.424000+03:00                 1328            22.133333   \n4  2023-08-17 15:07:49.238000+03:00                 1163            19.383333   \n5  2023-08-17 14:45:09.233000+03:00                 1171            19.516667   \n6  2023-08-16 18:09:12.737000+03:00                 1991            33.183333   \n7  2023-08-16 17:30:54.267000+03:00                 1132            18.866667   \n8  2023-08-16 17:06:18.878000+03:00                 1434            23.900000   \n9  2023-08-16 16:35:18.626000+03:00                 1715            28.583333   \n10 2023-08-16 15:34:28.650000+03:00                  853            14.216667   \n11 2023-08-16 15:21:37.178000+03:00                  921            15.350000   \n12 2023-08-16 15:02:07.025000+03:00                 1223            20.383333   \n13 2023-08-16 14:37:45.045000+03:00                 1744            29.066667   \n14 2023-08-16 14:04:24.692000+03:00                 1334            22.233333   \n15 2023-08-16 13:35:04.405000+03:00                 1232            20.533333   \n16 2023-08-16 13:12:23.122000+03:00                 1682            28.033333   \n17 2023-08-16 11:31:00.726000+03:00                 1838            30.633333   \n18 2023-08-16 10:14:10.005000+03:00                 2146            35.766667   \n19 2023-08-16 09:31:16.753000+03:00                 2262            37.700000   \n20 2023-08-16 08:15:28.840000+03:00                 1280            21.333333   \n21 2023-08-16 07:51:03.040000+03:00                 1309            21.816667   \n22 2023-08-16 07:25:25.234000+03:00                 1076            17.933333   \n23 2023-08-16 07:02:23.448000+03:00                 1120            18.666667   \n24 2023-08-15 20:04:31.496000+03:00                 1861            31.016667   \n25 2023-08-15 19:23:10.361000+03:00                 2010            33.500000   \n26 2023-08-15 17:37:00.550000+03:00                 1520            25.333333   \n27 2023-08-15 17:07:41.212000+03:00                 1011            16.850000   \n28 2023-08-15 16:46:06.339000+03:00                 1007            16.783333   \n29 2023-08-15 16:24:55.907000+03:00                 1428            23.800000   \n30 2023-08-15 15:58:28.505000+03:00                 1944            32.400000   \n31 2023-08-15 15:00:16.718000+03:00                 2336            38.933333   \n32 2023-08-15 14:11:23.446000+03:00                 1889            31.483333   \n33 2023-08-15 13:36:08.113000+03:00                  859            14.316667   \n\n   gamemode kda_formatted        kda    win    champion  \n0   CLASSIC       17/7/20   5.285714   True      LeeSin  \n1      ARAM       25/8/23   6.000000   True         Zed  \n2      ARAM       4/13/20   1.846154  False        Sion  \n3      ARAM      18/11/39   5.181818   True       Leona  \n4      ARAM       4/18/24   1.555556  False        Sion  \n5      ARAM        8/9/43   5.666667   True        Rell  \n6   CLASSIC        13/8/6   2.375000  False      Ezreal  \n7   CLASSIC         1/9/6   0.777778  False     Alistar  \n8   CLASSIC        6/4/12   4.500000   True      LeeSin  \n9   CLASSIC         5/8/5   1.250000  False      LeeSin  \n10   CHERRY        8/1/10  18.000000   True    Pantheon  \n11   CHERRY         8/5/0   1.600000  False    Pantheon  \n12     ARAM       18/9/20   4.222222   True     Belveth  \n13     ARAM      20/17/22   2.470588  False        Kayn  \n14     ARAM      17/12/19   3.000000  False     Chogath  \n15     ARAM       24/9/18   4.666667   True       Kayle  \n16     ARAM      11/15/18   1.933333  False  Blitzcrank  \n17  CLASSIC       12/5/13   5.000000   True      LeeSin  \n18  CLASSIC       17/3/15  10.666667   True         Zed  \n19  CLASSIC        7/9/13   2.222222  False      LeeSin  \n20     ARAM      17/13/24   3.153846   True      Illaoi  \n21     ARAM       18/7/37   7.857143   True      Veigar  \n22     ARAM       5/10/50   5.500000   True      Thresh  \n23     ARAM      14/10/12   2.600000  False      Aatrox  \n24  CLASSIC        16/6/6   3.666667   True      LeeSin  \n25  CLASSIC        11/5/5   3.200000  False      LeeSin  \n26     ARAM      23/14/25   3.428571   True      Graves  \n27     ARAM       9/11/19   2.545455  False       Sylas  \n28     ARAM        2/9/31   3.666667   True       Leona  \n29     ARAM      21/16/33   3.375000   True      Singed  \n30  CLASSIC         2/3/7   3.000000   True    Vladimir  \n31  CLASSIC       3/10/13   1.600000  False      Ezreal  \n32  CLASSIC        8/12/8   1.333333  False     Naafiri  \n33   CHERRY         4/8/0   0.500000  False      Soraka  ",
      "text/html": "<div>\n<style scoped>\n    .dataframe tbody tr th:only-of-type {\n        vertical-align: middle;\n    }\n\n    .dataframe tbody tr th {\n        vertical-align: top;\n    }\n\n    .dataframe thead th {\n        text-align: right;\n    }\n</style>\n<table border=\"1\" class=\"dataframe\">\n  <thead>\n    <tr style=\"text-align: right;\">\n      <th></th>\n      <th>id</th>\n      <th>start_time</th>\n      <th>stop_time</th>\n      <th>duration_in_seconds</th>\n      <th>duration_in_minutes</th>\n      <th>gamemode</th>\n      <th>kda_formatted</th>\n      <th>kda</th>\n      <th>win</th>\n      <th>champion</th>\n    </tr>\n  </thead>\n  <tbody>\n    <tr>\n      <th>0</th>\n      <td>EUN1_3437170687</td>\n      <td>2023-08-18 07:37:34.364000+03:00</td>\n      <td>2023-08-18 08:12:31.017000+03:00</td>\n      <td>2096</td>\n      <td>34.933333</td>\n      <td>CLASSIC</td>\n      <td>17/7/20</td>\n      <td>5.285714</td>\n      <td>True</td>\n      <td>LeeSin</td>\n    </tr>\n    <tr>\n      <th>1</th>\n      <td>EUN1_3436810195</td>\n      <td>2023-08-17 19:23:21.803000+03:00</td>\n      <td>2023-08-17 19:41:15.200000+03:00</td>\n      <td>1073</td>\n      <td>17.883333</td>\n      <td>ARAM</td>\n      <td>25/8/23</td>\n      <td>6.000000</td>\n      <td>True</td>\n      <td>Zed</td>\n    </tr>\n    <tr>\n      <th>2</th>\n      <td>EUN1_3436785545</td>\n      <td>2023-08-17 19:02:28.446000+03:00</td>\n      <td>2023-08-17 19:21:00.602000+03:00</td>\n      <td>1112</td>\n      <td>18.533333</td>\n      <td>ARAM</td>\n      <td>4/13/20</td>\n      <td>1.846154</td>\n      <td>False</td>\n      <td>Sion</td>\n    </tr>\n    <tr>\n      <th>3</th>\n      <td>EUN1_3436642726</td>\n      <td>2023-08-17 15:11:01.366000+03:00</td>\n      <td>2023-08-17 15:33:09.424000+03:00</td>\n      <td>1328</td>\n      <td>22.133333</td>\n      <td>ARAM</td>\n      <td>18/11/39</td>\n      <td>5.181818</td>\n      <td>True</td>\n      <td>Leona</td>\n    </tr>\n    <tr>\n      <th>4</th>\n      <td>EUN1_3436633168</td>\n      <td>2023-08-17 14:48:25.861000+03:00</td>\n      <td>2023-08-17 15:07:49.238000+03:00</td>\n      <td>1163</td>\n      <td>19.383333</td>\n      <td>ARAM</td>\n      <td>4/18/24</td>\n      <td>1.555556</td>\n      <td>False</td>\n      <td>Sion</td>\n    </tr>\n    <tr>\n      <th>5</th>\n      <td>EUN1_3436614912</td>\n      <td>2023-08-17 14:25:38.115000+03:00</td>\n      <td>2023-08-17 14:45:09.233000+03:00</td>\n      <td>1171</td>\n      <td>19.516667</td>\n      <td>ARAM</td>\n      <td>8/9/43</td>\n      <td>5.666667</td>\n      <td>True</td>\n      <td>Rell</td>\n    </tr>\n    <tr>\n      <th>6</th>\n      <td>EUN1_3436053023</td>\n      <td>2023-08-16 17:36:01.694000+03:00</td>\n      <td>2023-08-16 18:09:12.737000+03:00</td>\n      <td>1991</td>\n      <td>33.183333</td>\n      <td>CLASSIC</td>\n      <td>13/8/6</td>\n      <td>2.375000</td>\n      <td>False</td>\n      <td>Ezreal</td>\n    </tr>\n    <tr>\n      <th>7</th>\n      <td>EUN1_3436039855</td>\n      <td>2023-08-16 17:12:01.818000+03:00</td>\n      <td>2023-08-16 17:30:54.267000+03:00</td>\n      <td>1132</td>\n      <td>18.866667</td>\n      <td>CLASSIC</td>\n      <td>1/9/6</td>\n      <td>0.777778</td>\n      <td>False</td>\n      <td>Alistar</td>\n    </tr>\n    <tr>\n      <th>8</th>\n      <td>EUN1_3436015683</td>\n      <td>2023-08-16 16:42:24.088000+03:00</td>\n      <td>2023-08-16 17:06:18.878000+03:00</td>\n      <td>1434</td>\n      <td>23.900000</td>\n      <td>CLASSIC</td>\n      <td>6/4/12</td>\n      <td>4.500000</td>\n      <td>True</td>\n      <td>LeeSin</td>\n    </tr>\n    <tr>\n      <th>9</th>\n      <td>EUN1_3435999852</td>\n      <td>2023-08-16 16:06:43.076000+03:00</td>\n      <td>2023-08-16 16:35:18.626000+03:00</td>\n      <td>1715</td>\n      <td>28.583333</td>\n      <td>CLASSIC</td>\n      <td>5/8/5</td>\n      <td>1.250000</td>\n      <td>False</td>\n      <td>LeeSin</td>\n    </tr>\n    <tr>\n      <th>10</th>\n      <td>EUN1_3435970999</td>\n      <td>2023-08-16 15:20:15.363000+03:00</td>\n      <td>2023-08-16 15:34:28.650000+03:00</td>\n      <td>853</td>\n      <td>14.216667</td>\n      <td>CHERRY</td>\n      <td>8/1/10</td>\n      <td>18.000000</td>\n      <td>True</td>\n      <td>Pantheon</td>\n    </tr>\n    <tr>\n      <th>11</th>\n      <td>EUN1_3435972341</td>\n      <td>2023-08-16 15:06:15.397000+03:00</td>\n      <td>2023-08-16 15:21:37.178000+03:00</td>\n      <td>921</td>\n      <td>15.350000</td>\n      <td>CHERRY</td>\n      <td>8/5/0</td>\n      <td>1.600000</td>\n      <td>False</td>\n      <td>Pantheon</td>\n    </tr>\n    <tr>\n      <th>12</th>\n      <td>EUN1_3435945629</td>\n      <td>2023-08-16 14:41:44.039000+03:00</td>\n      <td>2023-08-16 15:02:07.025000+03:00</td>\n      <td>1223</td>\n      <td>20.383333</td>\n      <td>ARAM</td>\n      <td>18/9/20</td>\n      <td>4.222222</td>\n      <td>True</td>\n      <td>Belveth</td>\n    </tr>\n    <tr>\n      <th>13</th>\n      <td>EUN1_3435935290</td>\n      <td>2023-08-16 14:08:40.176000+03:00</td>\n      <td>2023-08-16 14:37:45.045000+03:00</td>\n      <td>1744</td>\n      <td>29.066667</td>\n      <td>ARAM</td>\n      <td>20/17/22</td>\n      <td>2.470588</td>\n      <td>False</td>\n      <td>Kayn</td>\n    </tr>\n    <tr>\n      <th>14</th>\n      <td>EUN1_3435919359</td>\n      <td>2023-08-16 13:42:10.052000+03:00</td>\n      <td>2023-08-16 14:04:24.692000+03:00</td>\n      <td>1334</td>\n      <td>22.233333</td>\n      <td>ARAM</td>\n      <td>17/12/19</td>\n      <td>3.000000</td>\n      <td>False</td>\n      <td>Chogath</td>\n    </tr>\n    <tr>\n      <th>15</th>\n      <td>EUN1_3435912400</td>\n      <td>2023-08-16 13:14:31.793000+03:00</td>\n      <td>2023-08-16 13:35:04.405000+03:00</td>\n      <td>1232</td>\n      <td>20.533333</td>\n      <td>ARAM</td>\n      <td>24/9/18</td>\n      <td>4.666667</td>\n      <td>True</td>\n      <td>Kayle</td>\n    </tr>\n    <tr>\n      <th>16</th>\n      <td>EUN1_3435893474</td>\n      <td>2023-08-16 12:44:20.239000+03:00</td>\n      <td>2023-08-16 13:12:23.122000+03:00</td>\n      <td>1682</td>\n      <td>28.033333</td>\n      <td>ARAM</td>\n      <td>11/15/18</td>\n      <td>1.933333</td>\n      <td>False</td>\n      <td>Blitzcrank</td>\n    </tr>\n    <tr>\n      <th>17</th>\n      <td>EUN1_3435857927</td>\n      <td>2023-08-16 11:00:22.414000+03:00</td>\n      <td>2023-08-16 11:31:00.726000+03:00</td>\n      <td>1838</td>\n      <td>30.633333</td>\n      <td>CLASSIC</td>\n      <td>12/5/13</td>\n      <td>5.000000</td>\n      <td>True</td>\n      <td>LeeSin</td>\n    </tr>\n    <tr>\n      <th>18</th>\n      <td>EUN1_3435841885</td>\n      <td>2023-08-16 09:38:23.816000+03:00</td>\n      <td>2023-08-16 10:14:10.005000+03:00</td>\n      <td>2146</td>\n      <td>35.766667</td>\n      <td>CLASSIC</td>\n      <td>17/3/15</td>\n      <td>10.666667</td>\n      <td>True</td>\n      <td>Zed</td>\n    </tr>\n    <tr>\n      <th>19</th>\n      <td>EUN1_3435834545</td>\n      <td>2023-08-16 08:53:34.220000+03:00</td>\n      <td>2023-08-16 09:31:16.753000+03:00</td>\n      <td>2262</td>\n      <td>37.700000</td>\n      <td>CLASSIC</td>\n      <td>7/9/13</td>\n      <td>2.222222</td>\n      <td>False</td>\n      <td>LeeSin</td>\n    </tr>\n    <tr>\n      <th>20</th>\n      <td>EUN1_3435833147</td>\n      <td>2023-08-16 07:54:08.685000+03:00</td>\n      <td>2023-08-16 08:15:28.840000+03:00</td>\n      <td>1280</td>\n      <td>21.333333</td>\n      <td>ARAM</td>\n      <td>17/13/24</td>\n      <td>3.153846</td>\n      <td>True</td>\n      <td>Illaoi</td>\n    </tr>\n    <tr>\n      <th>21</th>\n      <td>EUN1_3435818943</td>\n      <td>2023-08-16 07:29:13.230000+03:00</td>\n      <td>2023-08-16 07:51:03.040000+03:00</td>\n      <td>1309</td>\n      <td>21.816667</td>\n      <td>ARAM</td>\n      <td>18/7/37</td>\n      <td>7.857143</td>\n      <td>True</td>\n      <td>Veigar</td>\n    </tr>\n    <tr>\n      <th>22</th>\n      <td>EUN1_3435830845</td>\n      <td>2023-08-16 07:07:28.914000+03:00</td>\n      <td>2023-08-16 07:25:25.234000+03:00</td>\n      <td>1076</td>\n      <td>17.933333</td>\n      <td>ARAM</td>\n      <td>5/10/50</td>\n      <td>5.500000</td>\n      <td>True</td>\n      <td>Thresh</td>\n    </tr>\n    <tr>\n      <th>23</th>\n      <td>EUN1_3435821718</td>\n      <td>2023-08-16 06:43:43.225000+03:00</td>\n      <td>2023-08-16 07:02:23.448000+03:00</td>\n      <td>1120</td>\n      <td>18.666667</td>\n      <td>ARAM</td>\n      <td>14/10/12</td>\n      <td>2.600000</td>\n      <td>False</td>\n      <td>Aatrox</td>\n    </tr>\n    <tr>\n      <th>24</th>\n      <td>EUN1_3435474297</td>\n      <td>2023-08-15 19:33:29.990000+03:00</td>\n      <td>2023-08-15 20:04:31.496000+03:00</td>\n      <td>1861</td>\n      <td>31.016667</td>\n      <td>CLASSIC</td>\n      <td>16/6/6</td>\n      <td>3.666667</td>\n      <td>True</td>\n      <td>LeeSin</td>\n    </tr>\n    <tr>\n      <th>25</th>\n      <td>EUN1_3435441530</td>\n      <td>2023-08-15 18:49:40.054000+03:00</td>\n      <td>2023-08-15 19:23:10.361000+03:00</td>\n      <td>2010</td>\n      <td>33.500000</td>\n      <td>CLASSIC</td>\n      <td>11/5/5</td>\n      <td>3.200000</td>\n      <td>False</td>\n      <td>LeeSin</td>\n    </tr>\n    <tr>\n      <th>26</th>\n      <td>EUN1_3435377283</td>\n      <td>2023-08-15 17:11:40.331000+03:00</td>\n      <td>2023-08-15 17:37:00.550000+03:00</td>\n      <td>1520</td>\n      <td>25.333333</td>\n      <td>ARAM</td>\n      <td>23/14/25</td>\n      <td>3.428571</td>\n      <td>True</td>\n      <td>Graves</td>\n    </tr>\n    <tr>\n      <th>27</th>\n      <td>EUN1_3435361423</td>\n      <td>2023-08-15 16:50:49.272000+03:00</td>\n      <td>2023-08-15 17:07:41.212000+03:00</td>\n      <td>1011</td>\n      <td>16.850000</td>\n      <td>ARAM</td>\n      <td>9/11/19</td>\n      <td>2.545455</td>\n      <td>False</td>\n      <td>Sylas</td>\n    </tr>\n    <tr>\n      <th>28</th>\n      <td>EUN1_3435340928</td>\n      <td>2023-08-15 16:29:18.457000+03:00</td>\n      <td>2023-08-15 16:46:06.339000+03:00</td>\n      <td>1007</td>\n      <td>16.783333</td>\n      <td>ARAM</td>\n      <td>2/9/31</td>\n      <td>3.666667</td>\n      <td>True</td>\n      <td>Leona</td>\n    </tr>\n    <tr>\n      <th>29</th>\n      <td>EUN1_3435331255</td>\n      <td>2023-08-15 16:01:07.449000+03:00</td>\n      <td>2023-08-15 16:24:55.907000+03:00</td>\n      <td>1428</td>\n      <td>23.800000</td>\n      <td>ARAM</td>\n      <td>21/16/33</td>\n      <td>3.375000</td>\n      <td>True</td>\n      <td>Singed</td>\n    </tr>\n    <tr>\n      <th>30</th>\n      <td>EUN1_3435308155</td>\n      <td>2023-08-15 15:26:04.170000+03:00</td>\n      <td>2023-08-15 15:58:28.505000+03:00</td>\n      <td>1944</td>\n      <td>32.400000</td>\n      <td>CLASSIC</td>\n      <td>2/3/7</td>\n      <td>3.000000</td>\n      <td>True</td>\n      <td>Vladimir</td>\n    </tr>\n    <tr>\n      <th>31</th>\n      <td>EUN1_3435269238</td>\n      <td>2023-08-15 14:21:20.493000+03:00</td>\n      <td>2023-08-15 15:00:16.718000+03:00</td>\n      <td>2336</td>\n      <td>38.933333</td>\n      <td>CLASSIC</td>\n      <td>3/10/13</td>\n      <td>1.600000</td>\n      <td>False</td>\n      <td>Ezreal</td>\n    </tr>\n    <tr>\n      <th>32</th>\n      <td>EUN1_3435247084</td>\n      <td>2023-08-15 13:39:53.625000+03:00</td>\n      <td>2023-08-15 14:11:23.446000+03:00</td>\n      <td>1889</td>\n      <td>31.483333</td>\n      <td>CLASSIC</td>\n      <td>8/12/8</td>\n      <td>1.333333</td>\n      <td>False</td>\n      <td>Naafiri</td>\n    </tr>\n    <tr>\n      <th>33</th>\n      <td>EUN1_3435234306</td>\n      <td>2023-08-15 13:21:48.955000+03:00</td>\n      <td>2023-08-15 13:36:08.113000+03:00</td>\n      <td>859</td>\n      <td>14.316667</td>\n      <td>CHERRY</td>\n      <td>4/8/0</td>\n      <td>0.500000</td>\n      <td>False</td>\n      <td>Soraka</td>\n    </tr>\n  </tbody>\n</table>\n</div>"
     },
     "execution_count": 52,
     "metadata": {},
     "output_type": "execute_result"
    }
   ],
   "source": [
    "puuid = get_puuid(\"extremq\", \"EUN1\")\n",
    "match_history = get_match_history(puuid, \"2023-08-12\", \"2023-08-19\", 0, 100)\n",
    "turn_data_to_dataframe(match_history, puuid)"
   ],
   "metadata": {
    "collapsed": false,
    "ExecuteTime": {
     "end_time": "2023-08-18T06:26:42.536055600Z",
     "start_time": "2023-08-18T06:26:32.340226900Z"
    }
   },
   "id": "32650a9e22a7b0df"
  },
  {
   "cell_type": "code",
   "execution_count": 46,
   "outputs": [],
   "source": [
    "dragos_dataframe = _"
   ],
   "metadata": {
    "collapsed": false,
    "ExecuteTime": {
     "end_time": "2023-08-18T06:24:26.676697400Z",
     "start_time": "2023-08-18T06:24:26.665335600Z"
    }
   },
   "id": "dbd4602f40ecbeca"
  },
  {
   "cell_type": "code",
   "execution_count": 49,
   "outputs": [],
   "source": [
    "rares_dataframe = _"
   ],
   "metadata": {
    "collapsed": false,
    "ExecuteTime": {
     "end_time": "2023-08-18T06:25:30.079249900Z",
     "start_time": "2023-08-18T06:25:30.072699700Z"
    }
   },
   "id": "65ae377c0b3bb0cb"
  },
  {
   "cell_type": "code",
   "execution_count": 53,
   "outputs": [],
   "source": [
    "stefa_dataframe = _"
   ],
   "metadata": {
    "collapsed": false,
    "ExecuteTime": {
     "end_time": "2023-08-18T06:26:51.061393300Z",
     "start_time": "2023-08-18T06:26:51.054885100Z"
    }
   },
   "id": "9024a70495c2c55"
  },
  {
   "cell_type": "code",
   "execution_count": 51,
   "outputs": [
    {
     "data": {
      "text/plain": "25"
     },
     "execution_count": 51,
     "metadata": {},
     "output_type": "execute_result"
    }
   ],
   "source": [
    "# Check how many ids are in both dataframes\n",
    "len(set(dragos_dataframe[\"id\"]) & set(rares_dataframe[\"id\"]))"
   ],
   "metadata": {
    "collapsed": false,
    "ExecuteTime": {
     "end_time": "2023-08-18T06:25:55.639388500Z",
     "start_time": "2023-08-18T06:25:55.629371700Z"
    }
   },
   "id": "6886ae715e0c2b3c"
  },
  {
   "cell_type": "code",
   "execution_count": 54,
   "outputs": [
    {
     "data": {
      "text/plain": "13"
     },
     "execution_count": 54,
     "metadata": {},
     "output_type": "execute_result"
    }
   ],
   "source": [
    "# Check how many ids are in both dataframes\n",
    "len(set(dragos_dataframe[\"id\"]) & set(stefa_dataframe[\"id\"]))"
   ],
   "metadata": {
    "collapsed": false,
    "ExecuteTime": {
     "end_time": "2023-08-18T06:27:00.280035Z",
     "start_time": "2023-08-18T06:27:00.269217700Z"
    }
   },
   "id": "785edc06e85d7713"
  },
  {
   "cell_type": "code",
   "execution_count": 55,
   "outputs": [
    {
     "data": {
      "text/plain": "13"
     },
     "execution_count": 55,
     "metadata": {},
     "output_type": "execute_result"
    }
   ],
   "source": [
    "# Check how many ids are in all dataframes\n",
    "len(set(dragos_dataframe[\"id\"]) & set(rares_dataframe[\"id\"]) & set(stefa_dataframe[\"id\"]))"
   ],
   "metadata": {
    "collapsed": false,
    "ExecuteTime": {
     "end_time": "2023-08-18T06:27:09.053599800Z",
     "start_time": "2023-08-18T06:27:09.047086500Z"
    }
   },
   "id": "6a877e7bc3c1cbec"
  },
  {
   "cell_type": "code",
   "execution_count": 56,
   "outputs": [
    {
     "data": {
      "text/plain": "19"
     },
     "execution_count": 56,
     "metadata": {},
     "output_type": "execute_result"
    }
   ],
   "source": [
    "# Check how many ids are in both\n",
    "len(set(stefa_dataframe[\"id\"]) & set(rares_dataframe[\"id\"]))"
   ],
   "metadata": {
    "collapsed": false,
    "ExecuteTime": {
     "end_time": "2023-08-18T06:27:31.739097300Z",
     "start_time": "2023-08-18T06:27:31.733066700Z"
    }
   },
   "id": "314037aca856b83c"
  }
 ],
 "metadata": {
  "kernelspec": {
   "display_name": "Python 3",
   "language": "python",
   "name": "python3"
  },
  "language_info": {
   "codemirror_mode": {
    "name": "ipython",
    "version": 2
   },
   "file_extension": ".py",
   "mimetype": "text/x-python",
   "name": "python",
   "nbconvert_exporter": "python",
   "pygments_lexer": "ipython2",
   "version": "2.7.6"
  }
 },
 "nbformat": 4,
 "nbformat_minor": 5
}
