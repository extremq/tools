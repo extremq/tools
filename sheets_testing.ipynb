{
 "cells": [
  {
   "cell_type": "code",
   "execution_count": 1,
   "id": "initial_id",
   "metadata": {
    "collapsed": true,
    "ExecuteTime": {
     "end_time": "2023-08-20T06:22:46.119538700Z",
     "start_time": "2023-08-20T06:22:46.116117300Z"
    }
   },
   "outputs": [],
   "source": [
    "sheet_id = '1Y2su-qsJoYrkLbwP7sdKPnHOPn_VcDs82uNoVFbDQL4'"
   ]
  },
  {
   "cell_type": "code",
   "execution_count": 34,
   "outputs": [
    {
     "data": {
      "text/plain": "Empty DataFrame\nColumns: [id, champion, start_time, stop_time, duration_in_seconds, duration_in_minutes, gamemode, queue, kda_formatted, kda, win]\nIndex: []",
      "text/html": "<div>\n<style scoped>\n    .dataframe tbody tr th:only-of-type {\n        vertical-align: middle;\n    }\n\n    .dataframe tbody tr th {\n        vertical-align: top;\n    }\n\n    .dataframe thead th {\n        text-align: right;\n    }\n</style>\n<table border=\"1\" class=\"dataframe\">\n  <thead>\n    <tr style=\"text-align: right;\">\n      <th></th>\n      <th>id</th>\n      <th>champion</th>\n      <th>start_time</th>\n      <th>stop_time</th>\n      <th>duration_in_seconds</th>\n      <th>duration_in_minutes</th>\n      <th>gamemode</th>\n      <th>queue</th>\n      <th>kda_formatted</th>\n      <th>kda</th>\n      <th>win</th>\n    </tr>\n  </thead>\n  <tbody>\n  </tbody>\n</table>\n</div>"
     },
     "execution_count": 34,
     "metadata": {},
     "output_type": "execute_result"
    }
   ],
   "source": [
    "import gspread\n",
    "import pandas as pd\n",
    "import gspread_dataframe\n",
    "gc = gspread.service_account(filename='secret.json')\n",
    "wks = gc.open_by_key(sheet_id).sheet1\n",
    "\n",
    "\n",
    "sheet_df = gspread_dataframe.get_as_dataframe(wks, evaluate_formulas=False)\n",
    "sheet_df = sheet_df.dropna(how='all')\n",
    "sheet_df = sheet_df.dropna(axis=1, how='all')\n",
    "\n",
    "df = pd.read_csv('output.csv')\n",
    "filtered_new_data = df[~df['id'].isin(sheet_df['id'])]\n",
    "\n",
    "filtered_new_data"
   ],
   "metadata": {
    "collapsed": false,
    "ExecuteTime": {
     "end_time": "2023-08-20T06:58:02.214304400Z",
     "start_time": "2023-08-20T06:58:00.903872Z"
    }
   },
   "id": "83fc53c6a4302c5d"
  }
 ],
 "metadata": {
  "kernelspec": {
   "display_name": "Python 3",
   "language": "python",
   "name": "python3"
  },
  "language_info": {
   "codemirror_mode": {
    "name": "ipython",
    "version": 2
   },
   "file_extension": ".py",
   "mimetype": "text/x-python",
   "name": "python",
   "nbconvert_exporter": "python",
   "pygments_lexer": "ipython2",
   "version": "2.7.6"
  }
 },
 "nbformat": 4,
 "nbformat_minor": 5
}
